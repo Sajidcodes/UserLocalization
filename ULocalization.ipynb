{
  "cells": [
    {
      "cell_type": "code",
      "execution_count": null,
      "metadata": {
        "id": "huHYD5NSSkIM"
      },
      "outputs": [],
      "source": [
        "import torch\n",
        "import torch.nn as nn\n",
        "import torch.optim as optim\n",
        "from torch.utils.data import DataLoader, Dataset, random_split\n",
        "import os\n",
        "os.environ[\"CUDA_VISIBLE_DEVICES\"]=\"2\"  # specify which GPU(s) to be used\n",
        "import numpy as np\n",
        "import h5py\n",
        "import matplotlib.pyplot as plt\n",
        "import os.path"
      ]
    },
    {
      "cell_type": "code",
      "execution_count": null,
      "metadata": {
        "id": "ICMtGufaTmFa"
      },
      "outputs": [],
      "source": [
        "!unzip -q \"labelled.zip\" -d \"./\""
      ]
    },
    {
      "cell_type": "code",
      "execution_count": null,
      "metadata": {
        "id": "SCclMfwxvunr"
      },
      "outputs": [],
      "source": [
        "!unzip -q \"unlabelled.zip\" -d \"./\""
      ]
    },
    {
      "cell_type": "code",
      "execution_count": null,
      "metadata": {
        "id": "F_NAKdXpvuhG"
      },
      "outputs": [],
      "source": [
        "!unzip -q \"test.zip\" -d \"./\""
      ]
    },
    {
      "cell_type": "code",
      "execution_count": null,
      "metadata": {
        "id": "VPBRXVOjSkIP"
      },
      "outputs": [],
      "source": [
        "labelled = \"labelled_data/\""
      ]
    },
    {
      "cell_type": "code",
      "execution_count": null,
      "metadata": {
        "id": "pCEW7drlvyeu"
      },
      "outputs": [],
      "source": [
        "unlabelled = \"unlabelled_data/\""
      ]
    },
    {
      "cell_type": "code",
      "execution_count": null,
      "metadata": {
        "id": "iT-o7dFXvyWA"
      },
      "outputs": [],
      "source": [
        "test = \"test/\""
      ]
    },
    {
      "cell_type": "code",
      "execution_count": null,
      "metadata": {
        "id": "zYIdnR6SehgV"
      },
      "outputs": [],
      "source": [
        "import h5py\n",
        "import numpy as np\n",
        "import os\n",
        "\n",
        "# Function to load labeled dataset\n",
        "def load_labeled_dataset(dataset_path):\n",
        "    # Initialize empty lists to store data\n",
        "    H_Re_list, H_Im_list, SNR_list, Pos_list = [], [], [], []\n",
        "\n",
        "    # Iterate through each file in the labeled dataset folder\n",
        "    for file_name in os.listdir(dataset_path):\n",
        "        if file_name.endswith(\".h5\"):  # Assuming the files are in HDF5 format\n",
        "            file_path = os.path.join(dataset_path, file_name)\n",
        "\n",
        "            # Open the HDF5 file\n",
        "            with h5py.File(file_path, 'r') as file:\n",
        "                # Load data from the HDF5 file\n",
        "                H_Re = np.array(file['H_Re'])\n",
        "                H_Im = np.array(file['H_Im'])\n",
        "                SNR = np.array(file['SNR'])\n",
        "                Pos = np.array(file['Pos'])\n",
        "\n",
        "                # Append the loaded data to the lists\n",
        "                H_Re_list.append(H_Re)\n",
        "                H_Im_list.append(H_Im)\n",
        "                SNR_list.append(SNR)\n",
        "                Pos_list.append(Pos)\n",
        "\n",
        "    # Concatenate the lists to create arrays\n",
        "    H_Re_array = np.concatenate(H_Re_list, axis=0)\n",
        "    H_Im_array = np.concatenate(H_Im_list, axis=0)\n",
        "    SNR_array = np.concatenate(SNR_list, axis=0)\n",
        "    Pos_array = np.concatenate(Pos_list, axis=0)\n",
        "\n",
        "    return H_Re_array, H_Im_array, SNR_array, Pos_array\n",
        "\n",
        "# Path to the labeled dataset folder\n",
        "labeled_dataset_path = '/content/labelled_data'\n",
        "\n",
        "# Load the labeled dataset\n",
        "H_Re_labeled, H_Im_labeled, SNR_labeled, Pos_labeled = load_labeled_dataset(labeled_dataset_path)\n",
        "\n",
        "# Print the shapes of the loaded arrays\n",
        "print(\"H_Re shape:\", H_Re_labeled.shape)\n",
        "print(\"H_Im shape:\", H_Im_labeled.shape)\n",
        "print(\"SNR shape:\", SNR_labeled.shape)\n",
        "print(\"Pos shape:\", Pos_labeled.shape)\n"
      ]
    },
    {
      "cell_type": "code",
      "execution_count": null,
      "metadata": {
        "id": "qfSaY00rSkIP"
      },
      "outputs": [],
      "source": [
        "def get_data(data_file):\n",
        "\n",
        "    f = h5py.File(data_file, 'r')\n",
        "    H_Re = f['H_Re'][:] #shape (sample size, 56, 924, 5)\n",
        "    H_Im = f['H_Im'][:] #shape (sample size, 56, 924, 5)\n",
        "    SNR = f['SNR'][:] #shape (sample size, 56, 5)\n",
        "    Pos = f['Pos'][:] #shape(sample size, 3)\n",
        "    f.close()\n",
        "\n",
        "    return H_Re, H_Im, SNR, Pos"
      ]
    },
    {
      "cell_type": "code",
      "execution_count": null,
      "metadata": {
        "colab": {
          "base_uri": "https://localhost:8080/"
        },
        "id": "20Oe-XPySkIP",
        "outputId": "78c05d01-723d-447e-e6ff-1bed9da9527c"
      },
      "outputs": [
        {
          "name": "stdout",
          "output_type": "stream",
          "text": [
            "H_Re is of shape (512, 56, 924, 5)\n",
            "H_Im is of shape (512, 56, 924, 5)\n",
            "SNR is of shape (512, 56, 5)\n",
            "Pos is of shape (512, 3)\n"
          ]
        }
      ],
      "source": [
        "### example code to load data from file_1.hdf5, make sure to read all file_{id} to obtain full data  ###\n",
        "\n",
        "#load data from the list\n",
        "data_list= []\n",
        "for i in range(1,9):\n",
        "  data_file = labelled + \"file_\" + str(i) + \".hdf5\"\n",
        "  data_list.append(get_data(data_file))\n",
        "  print(f\"Data loaded from file_{i}.hdf5\")\n",
        "\n",
        "# Extract the data from the list\n",
        "for i, data in enumerate(data_list, start=1):\n",
        "    H_Re, H_Im, SNR, Pos = data\n",
        "    print(f\"Shapes from file_{i}.hdf5:\")\n",
        "    print(\"H_Re is of shape\", H_Re.shape)\n",
        "    print(\"H_Im is of shape\", H_Im.shape)\n",
        "    print(\"SNR is of shape\", SNR.shape)\n",
        "    print(\"Pos is of shape\", Pos.shape)\n",
        "    print(\"-------------------------------------\")\n",
        "  # H_Re, H_Im, SNR, Pos = get_data(data_file)\n",
        "  # print(\"H_Re is of shape {}\".format(H_Re.shape))\n",
        "  # print(\"H_Im is of shape {}\".format(H_Im.shape))\n",
        "  # print(\"SNR is of shape {}\".format(SNR.shape))\n",
        "  # print(\"Pos is of shape {}\".format(Pos.shape))"
      ]
    },
    {
      "cell_type": "code",
      "execution_count": null,
      "metadata": {
        "id": "Z89ASd-XSkIQ"
      },
      "outputs": [],
      "source": [
        "# adjusting the paths\n",
        "labeled_data = np.load(\"/content/labelled_data.npz\")\n",
        "unlabeled_data = np.load(\"/content/unlabelled_data.npz\")\n",
        "test_data = np.load(\"/content/test.npz\")"
      ]
    },
    {
      "cell_type": "code",
      "execution_count": null,
      "metadata": {
        "id": "iOwBp7RZ0Rmk"
      },
      "outputs": [],
      "source": [
        "\n",
        "seed = 42\n",
        "torch.manual_seed(seed)\n",
        "torch.cuda.manual_seed_all(seed)\n"
      ]
    },
    {
      "cell_type": "code",
      "execution_count": null,
      "metadata": {
        "id": "-hkGyDx50lCv"
      },
      "outputs": [],
      "source": [
        "# Define your feature size based on the output size of the self-supervised encoder\n",
        "your_feature_size = 32\n"
      ]
    },
    {
      "cell_type": "code",
      "execution_count": null,
      "metadata": {
        "id": "EoNtQyS10rXA"
      },
      "outputs": [],
      "source": []
    },
    {
      "cell_type": "code",
      "execution_count": null,
      "metadata": {
        "id": "3CvpGART0rT7"
      },
      "outputs": [],
      "source": [
        "class SelfSupervisedDataset(Dataset):\n",
        "    def __init__(self, labeled_data, positions):\n",
        "        self.data = torch.tensor(labeled_data, dtype=torch.float32)\n",
        "        self.pos = torch.tensor(positions, dtype=torch.float32)\n",
        "\n",
        "    def __len__(self):\n",
        "        return len(self.data)\n",
        "\n",
        "    def __getitem__(self, idx):\n",
        "        sample = self.data[idx]\n",
        "        coords = self.pos[idx]\n",
        "        return sample, coords\n",
        "\n",
        "train_ratio = 0.9\n",
        "val_ratio = 0.05\n",
        "test_ratio = 0.05\n",
        "\n",
        "# Calculate the sizes of each split\n",
        "total_samples = len(labels)\n",
        "train_samples = int(train_ratio * total_samples)\n",
        "val_samples = int(val_ratio * total_samples)\n",
        "test_samples = total_samples - train_samples - val_samples\n",
        "\n",
        "# Use random_split to split your dataset into train, validation, and test sets\n",
        "train_dataset, val_dataset, test_dataset = random_split(\n",
        "    SelfSupervisedDataset(magnitude, labels),\n",
        "    [train_samples, val_samples, test_samples]\n",
        ")\n",
        "\n",
        "# Create DataLoader instances for each split\n",
        "train_dataloader = DataLoader(train_dataset, batch_size=64, shuffle=True)\n",
        "val_dataloader = DataLoader(val_dataset, batch_size=64)\n",
        "test_dataloader = DataLoader(test_dataset, batch_size=64)"
      ]
    },
    {
      "cell_type": "code",
      "execution_count": null,
      "metadata": {
        "id": "dCkUs_A90rRB"
      },
      "outputs": [],
      "source": [
        "class SelfSupervisedModel(nn.Module):\n",
        "    def __init__(self):\n",
        "        super(SelfSupervisedModel, self).__init__()\n",
        "        # Adjust the input size to match your data\n",
        "        self.encoder = nn.Sequential(\n",
        "            nn.Linear(56 * 924, 256),  # Adjust the input size here\n",
        "            nn.ReLU(),\n",
        "            nn.Linear(256, 128),  # Adjust the input size here\n",
        "            nn.ReLU(),\n",
        "            nn.Linear(128, 64),\n",
        "            nn.ReLU(),\n",
        "            nn.Linear(64, 32)\n",
        "        )\n",
        "        self.decoder = nn.Sequential(\n",
        "            nn.Linear(32, 64),\n",
        "            nn.ReLU(),\n",
        "            nn.Linear(64, 128),\n",
        "            nn.ReLU(),\n",
        "            nn.Linear(128, 256),\n",
        "            nn.ReLU(),\n",
        "            nn.Linear(256, 56 * 924)\n",
        "        )\n",
        "\n",
        "    def forward(self, x):\n",
        "        encoded = self.encoder(x)\n",
        "        decoded = self.decoder(encoded)\n",
        "        return encoded, decoded\n",
        "\n",
        "self_supervised_encoder = SelfSupervisedModel().to(device)\n",
        "\n",
        "model_state_dict = torch.load('results/unlabeled/mlp/best_self_supervised_model.pth')\n",
        "\n",
        "# Load the entire model state_dict\n",
        "self_supervised_encoder.load_state_dict(model_state_dict)\n",
        "\n",
        "# Access the pre-trained encoder\n",
        "pretrained_encoder = self_supervised_encoder.encoder"
      ]
    },
    {
      "cell_type": "code",
      "execution_count": null,
      "metadata": {
        "id": "wtJf9IXb0rNa"
      },
      "outputs": [],
      "source": [
        "# Define your position estimation model\n",
        "class PositionEstimationModel(nn.Module):\n",
        "    def __init__(self, input_size):\n",
        "        super(PositionEstimationModel, self).__init__()\n",
        "        # Define your position estimation model architecture here\n",
        "        self.fc1 = nn.Linear(input_size, 128)\n",
        "        self.relu = nn.ReLU()\n",
        "        self.fc2 = nn.Linear(128, 64)\n",
        "        self.fc3 = nn.Linear(64, 3)  # Assuming 3 output dimensions for position estimation\n",
        "\n",
        "    def forward(self, x):\n",
        "        x = self.fc1(x)\n",
        "        x = self.relu(x)\n",
        "        x = self.fc2(x)\n",
        "        x = self.relu(x)\n",
        "        x = self.fc3(x)\n",
        "        return x\n",
        "\n",
        "# Define your combined model\n",
        "class CombinedPositionEstimationModel(nn.Module):\n",
        "    def __init__(self, encoder, input_size):\n",
        "        super(CombinedPositionEstimationModel, self).__init__()\n",
        "        self.encoder = encoder\n",
        "        self.position_estimation_model = PositionEstimationModel(input_size).to(device)\n",
        "\n",
        "    def forward(self, x):\n",
        "        features = self.encoder(x)\n",
        "\n",
        "        # Make sure features is a tensor (flattened if necessary)\n",
        "        if isinstance(features, tuple):\n",
        "            features = features[0]\n",
        "\n",
        "        positions = self.position_estimation_model(features)\n",
        "        return positions\n",
        "\n",
        "input_size = 32  # Adjust as needed based on the self-supervised encoder's output size\n",
        "\n",
        "combined_model = CombinedPositionEstimationModel(self_supervised_encoder, input_size=input_size).to(device)\n",
        "\n",
        "# Define your loss function and optimizer for position estimation\n",
        "criterion = nn.MSELoss().to(device)\n",
        "optimizer = optim.Adam(combined_model.parameters(), lr=0.001)\n",
        "\n",
        "# Initialize variables to keep track of the best validation loss and the corresponding model weights\n",
        "best_val_loss = float('inf')\n",
        "best_model_weights = None"
      ]
    },
    {
      "cell_type": "code",
      "execution_count": null,
      "metadata": {
        "id": "p-OSGTSL0rKO"
      },
      "outputs": [],
      "source": [
        "# # Lists to store training and validation loss and accuracy\n",
        "train_losses = []\n",
        "val_losses = []\n",
        "\n",
        "# Training loop\n",
        "num_epochs = 100  # Adjust as needed\n",
        "for epoch in range(num_epochs):\n",
        "    combined_model.train()  # Set the model to training mode\n",
        "    total_train_loss = 0.0\n",
        "    for data, labels in train_dataloader:\n",
        "        optimizer.zero_grad()\n",
        "        inputs = data.view(data.size(0), -1).to(device)\n",
        "        labels = labels.to(device)\n",
        "        predictions = combined_model(inputs)\n",
        "        loss = criterion(predictions, labels)\n",
        "        loss.backward()\n",
        "        optimizer.step()\n",
        "        total_train_loss += loss.item()\n",
        "\n",
        "\n",
        "    # Calculate average training loss for this epoch\n",
        "    avg_train_loss = total_train_loss / len(train_dataloader)\n",
        "    train_losses.append(avg_train_loss)\n",
        "\n",
        "    print(f'Epoch [{epoch+1}/{num_epochs}] - Train Loss: {avg_train_loss:.4f}')\n",
        "\n",
        "    # Validation loop\n",
        "    combined_model.eval()  # Set the model to evaluation mode\n",
        "    total_val_loss = 0.0\n",
        "    with torch.no_grad():\n",
        "        for val_data, val_labels in val_dataloader:\n",
        "        \tval_data = val_data.view(val_data.size(0), -1).to(device)\n",
        "        \tval_labels = val_labels.to(device)\n",
        "        \tval_predictions = combined_model(val_data)\n",
        "        \tval_loss = criterion(val_predictions, val_labels)\n",
        "        \ttotal_val_loss += val_loss.item()\n",
        "\n",
        "    # Calculate average validation loss for this epoch\n",
        "    avg_val_loss = total_val_loss / len(val_dataloader)\n",
        "    val_losses.append(avg_val_loss)\n",
        "\n",
        "    # Check if this is the best validation loss so far\n",
        "    if avg_val_loss < best_val_loss:\n",
        "        best_val_loss = avg_val_loss\n",
        "        best_model_weights = combined_model.state_dict()\n",
        "        print(f'better weights for model')\n",
        "\n",
        "    print(f'Epoch [{epoch+1}/{num_epochs}] - Validation Loss: {avg_val_loss:.4f}')\n",
        "\n",
        "# Save the trained combined model\n",
        "torch.save(combined_model.state_dict(), 'results/unlabeled/mlp/combined_position_estimation_model.pth')\n",
        "\n",
        "# Plot the training and validation loss curves\n",
        "plt.figure(figsize=(12, 6))\n",
        "plt.plot(range(1, num_epochs+1), train_losses, label='Training Loss')\n",
        "plt.plot(range(1, num_epochs+1), val_losses, label='Validation Loss')\n",
        "plt.xlabel('Epoch')\n",
        "plt.ylabel('Loss')\n",
        "plt.title('Training and Validation Loss')\n",
        "plt.legend()\n",
        "plt.grid(True)\n",
        "plt.savefig('results/unlabeled/mlp/loss_curves.png')\n",
        "# plt.show()"
      ]
    },
    {
      "cell_type": "code",
      "execution_count": null,
      "metadata": {
        "id": "UjoWoTNq0rG5"
      },
      "outputs": [],
      "source": [
        "#TESTING\n",
        "from sklearn.metrics import mean_squared_error, mean_absolute_error\n",
        "import numpy as np\n",
        "\n",
        "def calculate_mse(predictions, labels):\n",
        "    return mean_squared_error(labels, predictions)\n",
        "\n",
        "def calculate_mae(predictions, labels):\n",
        "    return mean_absolute_error(labels, predictions)\n",
        "\n",
        "def calculate_rmse(predictions, labels):\n",
        "    return np.sqrt(mean_squared_error(labels, predictions))\n",
        "\n",
        "\n",
        "def calculate_mape(predictions, labels):\n",
        "    absolute_percentage_errors = np.abs((labels - predictions) / labels)\n",
        "    return np.mean(absolute_percentage_errors)\n",
        "\n",
        "def calculate_rmspe(predictions, labels):\n",
        "    percentage_errors = ((labels - predictions) / labels) ** 2\n",
        "    return np.sqrt(np.mean(percentage_errors))\n",
        "\n",
        "model_weights_path = 'results/unlabeled/mlp/combined_position_estimation_model.pth'\n",
        "combined_model.load_state_dict(torch.load(model_weights_path))\n",
        "\n",
        "test_losses = []\n",
        "mse_values = []\n",
        "mae_values = []\n",
        "rmse_values = []\n",
        "norm_mae_values = []\n",
        "norm_rmse_values = []\n",
        "\n",
        "combined_model.eval()  # Set the model to evaluation mode\n",
        "with torch.no_grad():\n",
        "    for test_data, test_labels in test_dataloader:\n",
        "        test_data = test_data.view(test_data.size(0), -1).to(device)\n",
        "        test_labels = test_labels.to(device)\n",
        "        test_predictions = combined_model(test_data)\n",
        "        test_loss = criterion(test_predictions, test_labels)\n",
        "        test_losses.append(test_loss.item())\n",
        "\n",
        "        # Convert predictions and labels back to CPU if necessary\n",
        "        test_predictions = test_predictions.cpu().numpy()\n",
        "        test_labels = test_labels.cpu().numpy()\n",
        "\n",
        "        mse = calculate_mse(test_predictions, test_labels)\n",
        "        mae = calculate_mae(test_predictions, test_labels)\n",
        "        rmse = calculate_rmse(test_predictions, test_labels)\n",
        "        norm_mae = calculate_mape(test_predictions, test_labels)\n",
        "        norm_rmse = calculate_rmspe(test_predictions, test_labels)\n",
        "\n",
        "        mse_values.append(mse)\n",
        "        mae_values.append(mae)\n",
        "        rmse_values.append(rmse)\n",
        "        norm_mae_values.append(norm_mae)\n",
        "        norm_rmse_values.append(norm_rmse)\n",
        "\n",
        "avg_test_loss = np.mean(test_losses)\n",
        "avg_mse = np.mean(mse_values)\n",
        "avg_mae = np.mean(mae_values)\n",
        "avg_rmse = np.mean(rmse_values)\n",
        "avg_norm_mae_values = np.mean(norm_mae_values)\n",
        "avg_norm_rmse_values = np.mean(norm_rmse_values)\n",
        "\n",
        "print(f'Test Loss: {avg_test_loss:.4f}')\n",
        "print(f'MSE: {avg_mse:.4f}')\n",
        "print(f'MAE: {avg_mae:.4f}')\n",
        "print(f'RMSE: {avg_rmse:.4f}')\n",
        "print(f'MAPE: {avg_norm_mae_values:.4f}')\n",
        "print(f'RMSPE: {avg_norm_rmse_values:.4f}')"
      ]
    },
    {
      "cell_type": "code",
      "execution_count": null,
      "metadata": {
        "id": "RKvMarDb0q5G"
      },
      "outputs": [],
      "source": [
        "# Create a DataFrame for the submission\n",
        "submission_df = pd.DataFrame({\n",
        "    'id': range(1, len(test_data) + 1),\n",
        "    'x': x_pred.cpu().numpy(),\n",
        "    'y': y_pred.cpu().numpy(),\n",
        "    'z': z_pred.cpu().numpy()\n",
        "})\n",
        "\n",
        "# Save the DataFrame to a CSV file\n",
        "submission_df.to_csv('submission.csv', index=False)"
      ]
    }
  ],
  "metadata": {
    "colab": {
      "provenance": []
    },
    "kernelspec": {
      "display_name": "Python 3",
      "name": "python3"
    },
    "language_info": {
      "codemirror_mode": {
        "name": "ipython",
        "version": 3
      },
      "file_extension": ".py",
      "mimetype": "text/x-python",
      "name": "python",
      "nbconvert_exporter": "python",
      "pygments_lexer": "ipython3",
      "version": "3.6.8"
    }
  },
  "nbformat": 4,
  "nbformat_minor": 0
}
